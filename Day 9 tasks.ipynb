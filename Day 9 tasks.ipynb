{
 "cells": [
  {
   "cell_type": "code",
   "execution_count": 1,
   "id": "8bbec683",
   "metadata": {},
   "outputs": [],
   "source": [
    "# day 9 task tuple data type"
   ]
  },
  {
   "cell_type": "code",
   "execution_count": 3,
   "id": "9e6883a4",
   "metadata": {},
   "outputs": [],
   "source": [
    "students=('Priyanka', 'Keerthi', 'Naveen', 'Kumar')"
   ]
  },
  {
   "cell_type": "code",
   "execution_count": 4,
   "id": "9a424d84",
   "metadata": {},
   "outputs": [
    {
     "name": "stdout",
     "output_type": "stream",
     "text": [
      "('Priyanka', 'Keerthi', 'Naveen', 'Kumar')\n"
     ]
    }
   ],
   "source": [
    "print(students)"
   ]
  },
  {
   "cell_type": "code",
   "execution_count": 5,
   "id": "0b84656f",
   "metadata": {},
   "outputs": [
    {
     "name": "stdout",
     "output_type": "stream",
     "text": [
      "Keerthi\n"
     ]
    }
   ],
   "source": [
    "print(students[1])"
   ]
  },
  {
   "cell_type": "code",
   "execution_count": 6,
   "id": "4cc79fdd",
   "metadata": {},
   "outputs": [],
   "source": [
    "dimensions=(200,50)"
   ]
  },
  {
   "cell_type": "code",
   "execution_count": 7,
   "id": "5afc576a",
   "metadata": {},
   "outputs": [
    {
     "name": "stdout",
     "output_type": "stream",
     "text": [
      "(200, 50)\n"
     ]
    }
   ],
   "source": [
    "print(dimensions)"
   ]
  },
  {
   "cell_type": "code",
   "execution_count": 8,
   "id": "7388c55c",
   "metadata": {},
   "outputs": [
    {
     "name": "stdout",
     "output_type": "stream",
     "text": [
      "('Priyanka', 'Keerthi', 'Naveen', 'Kumar')\n"
     ]
    }
   ],
   "source": [
    "print(students)"
   ]
  },
  {
   "cell_type": "code",
   "execution_count": 9,
   "id": "ca51ea07",
   "metadata": {},
   "outputs": [
    {
     "name": "stdout",
     "output_type": "stream",
     "text": [
      "Priyanka\n",
      "Keerthi\n",
      "Naveen\n",
      "Kumar\n"
     ]
    }
   ],
   "source": [
    "for x in students:\n",
    "    print(x)"
   ]
  },
  {
   "cell_type": "code",
   "execution_count": 10,
   "id": "87b7edd3",
   "metadata": {},
   "outputs": [],
   "source": [
    "# dictionary data types"
   ]
  },
  {
   "cell_type": "code",
   "execution_count": 11,
   "id": "25841d19",
   "metadata": {},
   "outputs": [],
   "source": [
    "alien={'color': 'green', 'points': 5}"
   ]
  },
  {
   "cell_type": "code",
   "execution_count": 12,
   "id": "7cac2587",
   "metadata": {},
   "outputs": [
    {
     "name": "stdout",
     "output_type": "stream",
     "text": [
      "{'color': 'green', 'points': 5}\n"
     ]
    }
   ],
   "source": [
    "print(alien)"
   ]
  },
  {
   "cell_type": "code",
   "execution_count": 13,
   "id": "36ea733e",
   "metadata": {},
   "outputs": [],
   "source": [
    "# to access value from dictionary"
   ]
  },
  {
   "cell_type": "code",
   "execution_count": 14,
   "id": "3338d4db",
   "metadata": {},
   "outputs": [
    {
     "name": "stdout",
     "output_type": "stream",
     "text": [
      "green\n"
     ]
    }
   ],
   "source": [
    "print(alien['color'])"
   ]
  },
  {
   "cell_type": "code",
   "execution_count": 15,
   "id": "26f9b96c",
   "metadata": {},
   "outputs": [],
   "source": [
    "# to know points"
   ]
  },
  {
   "cell_type": "code",
   "execution_count": 16,
   "id": "a163bbc9",
   "metadata": {},
   "outputs": [
    {
     "name": "stdout",
     "output_type": "stream",
     "text": [
      "5\n"
     ]
    }
   ],
   "source": [
    "print(alien['points'])"
   ]
  },
  {
   "cell_type": "code",
   "execution_count": 17,
   "id": "64e04bca",
   "metadata": {},
   "outputs": [],
   "source": [
    "# to add new key value pairs"
   ]
  },
  {
   "cell_type": "code",
   "execution_count": 18,
   "id": "51149ac5",
   "metadata": {},
   "outputs": [],
   "source": [
    "alien['start_position']=0"
   ]
  },
  {
   "cell_type": "code",
   "execution_count": 19,
   "id": "c51fe6f3",
   "metadata": {},
   "outputs": [
    {
     "name": "stdout",
     "output_type": "stream",
     "text": [
      "{'color': 'green', 'points': 5, 'start_position': 0}\n"
     ]
    }
   ],
   "source": [
    "print(alien)"
   ]
  },
  {
   "cell_type": "code",
   "execution_count": 20,
   "id": "09e8bd43",
   "metadata": {},
   "outputs": [],
   "source": [
    "alien['curren_position']=2"
   ]
  },
  {
   "cell_type": "code",
   "execution_count": 21,
   "id": "4dd117a2",
   "metadata": {},
   "outputs": [
    {
     "name": "stdout",
     "output_type": "stream",
     "text": [
      "{'color': 'green', 'points': 5, 'start_position': 0, 'curren_position': 2}\n"
     ]
    }
   ],
   "source": [
    "print(alien)"
   ]
  },
  {
   "cell_type": "code",
   "execution_count": 22,
   "id": "1170229d",
   "metadata": {},
   "outputs": [],
   "source": [
    "alien['color']='yellow'"
   ]
  },
  {
   "cell_type": "code",
   "execution_count": 23,
   "id": "4e8d116a",
   "metadata": {},
   "outputs": [
    {
     "name": "stdout",
     "output_type": "stream",
     "text": [
      "{'color': 'yellow', 'points': 5, 'start_position': 0, 'curren_position': 2}\n"
     ]
    }
   ],
   "source": [
    "print(alien)"
   ]
  },
  {
   "cell_type": "code",
   "execution_count": null,
   "id": "45ea8d9c",
   "metadata": {},
   "outputs": [],
   "source": []
  }
 ],
 "metadata": {
  "kernelspec": {
   "display_name": "Python 3 (ipykernel)",
   "language": "python",
   "name": "python3"
  },
  "language_info": {
   "codemirror_mode": {
    "name": "ipython",
    "version": 3
   },
   "file_extension": ".py",
   "mimetype": "text/x-python",
   "name": "python",
   "nbconvert_exporter": "python",
   "pygments_lexer": "ipython3",
   "version": "3.9.7"
  }
 },
 "nbformat": 4,
 "nbformat_minor": 5
}
